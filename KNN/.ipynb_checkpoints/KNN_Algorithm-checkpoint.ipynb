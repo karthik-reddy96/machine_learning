{
 "cells": [
  {
   "cell_type": "code",
   "execution_count": 1,
   "metadata": {},
   "outputs": [],
   "source": [
    "import pandas as pd\n",
    "from scipy.io import arff\n",
    "import numpy\n",
    "import math\n",
    "import operator"
   ]
  },
  {
   "cell_type": "markdown",
   "metadata": {},
   "source": [
    "# Loading data from arff file"
   ]
  },
  {
   "cell_type": "code",
   "execution_count": 20,
   "metadata": {},
   "outputs": [],
   "source": [
    "data=arff.loadarff(\"./product-selection/trainProdSelection.arff\")\n",
    "train_DataFrame = pd.DataFrame(data[0])\n",
    "data=arff.loadarff(\"./product-selection/testProdSelection.arff\")\n",
    "test_DataFrame = pd.DataFrame(data[0])"
   ]
  },
  {
   "cell_type": "code",
   "execution_count": 21,
   "metadata": {},
   "outputs": [
    {
     "data": {
      "text/plain": [
       "Type          object\n",
       "LifeStyle     object\n",
       "Vacation     float64\n",
       "eCredit      float64\n",
       "salary       float64\n",
       "property     float64\n",
       "label         object\n",
       "dtype: object"
      ]
     },
     "execution_count": 21,
     "metadata": {},
     "output_type": "execute_result"
    }
   ],
   "source": [
    "list(pd.DataFrame(data[0]))\n",
    "pd.DataFrame(data[0]).dtypes"
   ]
  },
  {
   "cell_type": "code",
   "execution_count": 4,
   "metadata": {},
   "outputs": [],
   "source": [
    "train_DataFrame.Type=train_DataFrame.Type.str.decode(\"UTF-8\")\n",
    "train_DataFrame.LifeStyle=train_DataFrame.LifeStyle.str.decode(\"UTF-8\")\n",
    "train_DataFrame.label=train_DataFrame.label.str.decode(\"UTF-8\")"
   ]
  },
  {
   "cell_type": "code",
   "execution_count": 5,
   "metadata": {},
   "outputs": [],
   "source": [
    "min_Value=train_DataFrame.Vacation.min()\n",
    "max_Value=train_DataFrame.Vacation.max()\n",
    "train_DataFrame.Vacation=train_DataFrame.Vacation.apply(lambda x:(x-min_Value)/(max_Value-min_Value))"
   ]
  },
  {
   "cell_type": "code",
   "execution_count": 6,
   "metadata": {},
   "outputs": [],
   "source": [
    "min_Value=train_DataFrame.eCredit.min()\n",
    "max_Value=train_DataFrame.eCredit.max()\n",
    "train_DataFrame.eCredit=train_DataFrame.eCredit.apply(lambda x:(x-min_Value)/(max_Value-min_Value))"
   ]
  },
  {
   "cell_type": "code",
   "execution_count": 7,
   "metadata": {},
   "outputs": [],
   "source": [
    "min_Value=train_DataFrame.salary.min()\n",
    "max_Value=train_DataFrame.salary.max()\n",
    "train_DataFrame.salary=train_DataFrame.salary.apply(lambda x:(x-min_Value)/(max_Value-min_Value))"
   ]
  },
  {
   "cell_type": "code",
   "execution_count": 8,
   "metadata": {},
   "outputs": [],
   "source": [
    "\n",
    "min_Value=train_DataFrame.property.min()\n",
    "max_Value=train_DataFrame.property.max()\n",
    "train_DataFrame.property=train_DataFrame.property.apply(lambda x:(x-min_Value)/(max_Value-min_Value))"
   ]
  },
  {
   "cell_type": "code",
   "execution_count": 9,
   "metadata": {},
   "outputs": [],
   "source": [
    "\n",
    "train_DataFrame.head()\n"
   ]
  },
  {
   "cell_type": "code",
   "execution_count": null,
   "metadata": {},
   "outputs": [],
   "source": []
  },
  {
   "cell_type": "code",
   "execution_count": 10,
   "metadata": {},
   "outputs": [],
   "source": [
    "min_Value=test_DataFrame.Vacation.min()\n",
    "max_Value=test_DataFrame.Vacation.max()\n",
    "test_DataFrame.Vacation=test_DataFrame.Vacation.apply(lambda x:(x-min_Value)/(max_Value-min_Value))\n"
   ]
  },
  {
   "cell_type": "code",
   "execution_count": 11,
   "metadata": {},
   "outputs": [],
   "source": [
    "min_Value=test_DataFrame.eCredit.min()\n",
    "max_Value=test_DataFrame.eCredit.max()\n",
    "test_DataFrame.eCredit=test_DataFrame.eCredit.apply(lambda x:(x-min_Value)/(max_Value-min_Value))"
   ]
  },
  {
   "cell_type": "code",
   "execution_count": 12,
   "metadata": {},
   "outputs": [],
   "source": [
    "\n",
    "min_Value=test_DataFrame.salary.min()\n",
    "max_Value=test_DataFrame.salary.max()\n",
    "test_DataFrame.salary=test_DataFrame.salary.apply(lambda x:(x-min_Value)/(max_Value-min_Value))"
   ]
  },
  {
   "cell_type": "code",
   "execution_count": 13,
   "metadata": {},
   "outputs": [],
   "source": [
    "min_Value=test_DataFrame.property.min()\n",
    "max_Value=test_DataFrame.property.max()\n",
    "test_DataFrame.property=test_DataFrame.property.apply(lambda x:(x-min_Value)/(max_Value-min_Value))"
   ]
  },
  {
   "cell_type": "code",
   "execution_count": 14,
   "metadata": {},
   "outputs": [
    {
     "data": {
      "text/html": [
       "<div>\n",
       "<style scoped>\n",
       "    .dataframe tbody tr th:only-of-type {\n",
       "        vertical-align: middle;\n",
       "    }\n",
       "\n",
       "    .dataframe tbody tr th {\n",
       "        vertical-align: top;\n",
       "    }\n",
       "\n",
       "    .dataframe thead th {\n",
       "        text-align: right;\n",
       "    }\n",
       "</style>\n",
       "<table border=\"1\" class=\"dataframe\">\n",
       "  <thead>\n",
       "    <tr style=\"text-align: right;\">\n",
       "      <th></th>\n",
       "      <th>Type</th>\n",
       "      <th>LifeStyle</th>\n",
       "      <th>Vacation</th>\n",
       "      <th>eCredit</th>\n",
       "      <th>salary</th>\n",
       "      <th>property</th>\n",
       "      <th>label</th>\n",
       "    </tr>\n",
       "  </thead>\n",
       "  <tbody>\n",
       "    <tr>\n",
       "      <th>0</th>\n",
       "      <td>student</td>\n",
       "      <td>spend&lt;saving</td>\n",
       "      <td>0.20</td>\n",
       "      <td>0.058824</td>\n",
       "      <td>0.104637</td>\n",
       "      <td>0.398926</td>\n",
       "      <td>C1</td>\n",
       "    </tr>\n",
       "    <tr>\n",
       "      <th>1</th>\n",
       "      <td>student</td>\n",
       "      <td>spend&gt;&gt;saving</td>\n",
       "      <td>0.54</td>\n",
       "      <td>0.021008</td>\n",
       "      <td>0.175059</td>\n",
       "      <td>0.243041</td>\n",
       "      <td>C1</td>\n",
       "    </tr>\n",
       "    <tr>\n",
       "      <th>2</th>\n",
       "      <td>student</td>\n",
       "      <td>spend&lt;&lt;saving</td>\n",
       "      <td>0.52</td>\n",
       "      <td>0.231092</td>\n",
       "      <td>0.138339</td>\n",
       "      <td>0.085992</td>\n",
       "      <td>C1</td>\n",
       "    </tr>\n",
       "    <tr>\n",
       "      <th>3</th>\n",
       "      <td>engineer</td>\n",
       "      <td>spend&gt;saving</td>\n",
       "      <td>0.26</td>\n",
       "      <td>0.151261</td>\n",
       "      <td>0.430086</td>\n",
       "      <td>0.116229</td>\n",
       "      <td>C1</td>\n",
       "    </tr>\n",
       "    <tr>\n",
       "      <th>4</th>\n",
       "      <td>librarian</td>\n",
       "      <td>spend&lt;saving</td>\n",
       "      <td>0.00</td>\n",
       "      <td>0.016807</td>\n",
       "      <td>0.352657</td>\n",
       "      <td>0.025714</td>\n",
       "      <td>C1</td>\n",
       "    </tr>\n",
       "  </tbody>\n",
       "</table>\n",
       "</div>"
      ],
      "text/plain": [
       "        Type      LifeStyle  Vacation   eCredit    salary  property label\n",
       "0    student   spend<saving      0.20  0.058824  0.104637  0.398926    C1\n",
       "1    student  spend>>saving      0.54  0.021008  0.175059  0.243041    C1\n",
       "2    student  spend<<saving      0.52  0.231092  0.138339  0.085992    C1\n",
       "3   engineer   spend>saving      0.26  0.151261  0.430086  0.116229    C1\n",
       "4  librarian   spend<saving      0.00  0.016807  0.352657  0.025714    C1"
      ]
     },
     "execution_count": 14,
     "metadata": {},
     "output_type": "execute_result"
    }
   ],
   "source": [
    "test_DataFrame.head()"
   ]
  },
  {
   "cell_type": "code",
   "execution_count": 15,
   "metadata": {},
   "outputs": [],
   "source": [
    "def distance_Eucledian(inst1, inst2, length):\n",
    "    distance = 0\n",
    "    for x in range(2):\n",
    "        if (inst1[x]==inst2[x]):\n",
    "            distance += pow((1), 2)\n",
    "    for x in range(2,length):\n",
    "        distance += pow((inst1[x] - inst2[x]), 2)\n",
    "    return math.sqrt(distance)\n",
    " \n",
    "def get_neighbours(train_set, test_instance, k):\n",
    "    distances = []\n",
    "    length = len(test_instance)-1\n",
    "    for x in range(len(train_set)):\n",
    "        dist = distance_Eucledian(test_instance, train_set[x], length)\n",
    "        distances.append((train_set[x], dist))\n",
    "    distances.sort(key=operator.itemgetter(1))\n",
    "    neighbors = []\n",
    "    for x in range(k):\n",
    "        neighbors.append(distances[x][0])\n",
    "    return neighbors\n",
    " \n",
    "def get_response(neighbors):\n",
    "    class_votes = {}\n",
    "    for x in range(len(neighbors)):\n",
    "        response = neighbors[x][-1]\n",
    "        if response in class_votes:\n",
    "            class_votes[response] += 1\n",
    "        else:\n",
    "            class_votes[response] = 1\n",
    "    sorted_train_set = sorted(class_votes.items(), key=operator.itemgetter(1), reverse=True)\n",
    "    return sorted_train_set[0][0]\n",
    " \n",
    "def get_accuracy(test_set, predictions):\n",
    "    true = 0\n",
    "    for x in range(len(test_set)):\n",
    "        if test_set[x][-1] == predictions[x]:\n",
    "            true += 1\n",
    "    return (true/float(len(test_set))) * 100.0"
   ]
  },
  {
   "cell_type": "code",
   "execution_count": 16,
   "metadata": {},
   "outputs": [],
   "source": [
    "def knn(k):\n",
    "    predictions=[]\n",
    "    for x in range(len(test_DataFrame)):\n",
    "        neighbors = get_neighbours(train_DataFrame.values, test_DataFrame.values[x], k)\n",
    "        answer = get_response(neighbors)\n",
    "        predictions.append(answer)\n",
    "    accuracy = get_accuracy(test_DataFrame.values, predictions)\n",
    "    print('Accuracy: ' + repr(accuracy) + '%')\n"
   ]
  },
  {
   "cell_type": "code",
   "execution_count": 19,
   "metadata": {},
   "outputs": [
    {
     "name": "stdout",
     "output_type": "stream",
     "text": [
      "Accuracy: 23.809523809523807%\n"
     ]
    }
   ],
   "source": [
    "knn(3)"
   ]
  },
  {
   "cell_type": "code",
   "execution_count": 17,
   "metadata": {},
   "outputs": [
    {
     "name": "stdout",
     "output_type": "stream",
     "text": [
      "Accuracy: 28.57142857142857%\n"
     ]
    }
   ],
   "source": [
    "knn(17)\n"
   ]
  },
  {
   "cell_type": "code",
   "execution_count": 18,
   "metadata": {},
   "outputs": [
    {
     "name": "stdout",
     "output_type": "stream",
     "text": [
      "Accuracy: 23.809523809523807%\n",
      "Accuracy: 19.047619047619047%\n",
      "Accuracy: 14.285714285714285%\n",
      "Accuracy: 19.047619047619047%\n",
      "Accuracy: 19.047619047619047%\n",
      "Accuracy: 23.809523809523807%\n",
      "Accuracy: 23.809523809523807%\n",
      "Accuracy: 28.57142857142857%\n",
      "Accuracy: 28.57142857142857%\n",
      "Accuracy: 28.57142857142857%\n",
      "Accuracy: 28.57142857142857%\n",
      "Accuracy: 28.57142857142857%\n",
      "Accuracy: 28.57142857142857%\n",
      "Accuracy: 28.57142857142857%\n",
      "Accuracy: 28.57142857142857%\n",
      "Accuracy: 28.57142857142857%\n",
      "Accuracy: 23.809523809523807%\n",
      "Accuracy: 23.809523809523807%\n",
      "Accuracy: 23.809523809523807%\n",
      "Accuracy: 23.809523809523807%\n",
      "Accuracy: 19.047619047619047%\n",
      "Accuracy: 19.047619047619047%\n",
      "Accuracy: 14.285714285714285%\n",
      "Accuracy: 19.047619047619047%\n"
     ]
    }
   ],
   "source": [
    "\n",
    "for i in range(3,50,2):\n",
    "    knn(i)"
   ]
  },
  {
   "cell_type": "code",
   "execution_count": null,
   "metadata": {},
   "outputs": [],
   "source": []
  },
  {
   "cell_type": "code",
   "execution_count": null,
   "metadata": {},
   "outputs": [],
   "source": []
  },
  {
   "cell_type": "code",
   "execution_count": null,
   "metadata": {},
   "outputs": [],
   "source": []
  },
  {
   "cell_type": "code",
   "execution_count": null,
   "metadata": {},
   "outputs": [],
   "source": []
  }
 ],
 "metadata": {
  "kernelspec": {
   "display_name": "Python 3",
   "language": "python",
   "name": "python3"
  },
  "language_info": {
   "codemirror_mode": {
    "name": "ipython",
    "version": 3
   },
   "file_extension": ".py",
   "mimetype": "text/x-python",
   "name": "python",
   "nbconvert_exporter": "python",
   "pygments_lexer": "ipython3",
   "version": "3.6.5"
  }
 },
 "nbformat": 4,
 "nbformat_minor": 2
}
